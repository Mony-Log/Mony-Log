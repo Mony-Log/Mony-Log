{
 "cells": [
  {
   "cell_type": "code",
   "execution_count": 1,
   "id": "987287f9",
   "metadata": {},
   "outputs": [],
   "source": [
    "from langchain_openai import ChatOpenAI\n",
    "from langchain_core.prompts import ChatPromptTemplate\n",
    "from langchain_core.messages import HumanMessage\n",
    "\n",
    "from langchain_core.prompts import (\n",
    "    ChatPromptTemplate,\n",
    "    SystemMessagePromptTemplate,\n",
    "    HumanMessagePromptTemplate,\n",
    ")\n",
    "\n",
    "from langchain_core.runnables import RunnablePassthrough\n",
    "from pendulum import DateTime, Date\n",
    "from datetime import date"
   ]
  },
  {
   "cell_type": "code",
   "execution_count": 2,
   "id": "6e3439c4",
   "metadata": {},
   "outputs": [],
   "source": [
    "from pydantic import BaseModel, Field\n",
    "from decimal import Decimal\n",
    "from enum import StrEnum\n",
    "\n",
    "\n",
    "class ExpenseType(StrEnum):\n",
    "    INCOME = \"income\"\n",
    "    EXPENSE = \"expense\"\n",
    "\n",
    "\n",
    "class ExpenseResult(BaseModel):\n",
    "    amount: Decimal = Field(\n",
    "        default=Decimal(\"0.00\"),\n",
    "        description=\"The amount of the expense from the user message.\",\n",
    "    )\n",
    "    dt: date = Field(\n",
    "        default_factory=lambda: DateTime.now().date(),\n",
    "        description=\"The date of the expense from the user message. defaults from the current date.\",\n",
    "    )\n",
    "\n",
    "    type: ExpenseType = Field(\n",
    "        description=\"The type of the expense, either income or expense.\",\n",
    "    )\n",
    "\n",
    "    def __str__(self):\n",
    "        return f\"{self.type.value.capitalize()} of {self.amount} on {self.dt}\"\n",
    "\n",
    "    def __repr__(self):\n",
    "        return self.__str__()\n",
    "\n",
    "\n",
    "class ResultSchema(BaseModel):\n",
    "    expenses: list[ExpenseResult] = Field(description=\"The result of the expenses extraction from the user message.\")"
   ]
  },
  {
   "cell_type": "code",
   "execution_count": 3,
   "id": "3591a813",
   "metadata": {},
   "outputs": [],
   "source": [
    "parameters = dict(\n",
    "    base_url=\"http://192.168.81.2:11434/v1\",\n",
    "    api_key=\"ollama\",  # required, but unused,\n",
    "    model=\"qwen3:4B\",\n",
    "    temperature=0.0,\n",
    "    max_tokens=10240,\n",
    ")\n",
    "client = ChatOpenAI(**parameters).with_structured_output(\n",
    "    schema=ResultSchema,\n",
    "    include_raw=True,\n",
    "    strict=True,\n",
    ")"
   ]
  },
  {
   "cell_type": "code",
   "execution_count": 4,
   "id": "11690a44",
   "metadata": {},
   "outputs": [
    {
     "data": {
      "text/plain": [
       "{\n",
       "  raw: RunnableBinding(bound=ChatOpenAI(client=<openai.resources.chat.completions.completions.Completions object at 0x105f87a40>, async_client=<openai.resources.chat.completions.completions.AsyncCompletions object at 0x111651e20>, root_client=<openai.OpenAI object at 0x105f87c20>, root_async_client=<openai.AsyncOpenAI object at 0x107358d40>, model_name='qwen3:4B', temperature=0.0, model_kwargs={}, openai_api_key=SecretStr('**********'), openai_api_base='http://192.168.81.2:11434/v1', max_tokens=10240), kwargs={'response_format': <class '__main__.ResultSchema'>, 'ls_structured_output_format': {'kwargs': {'method': 'json_schema', 'strict': True}, 'schema': {'type': 'function', 'function': {'name': 'ResultSchema', 'description': '', 'parameters': {'properties': {'expenses': {'description': 'The result of the expenses extraction from the user message.', 'items': {'properties': {'amount': {'anyOf': [{'type': 'number'}, {'type': 'string'}], 'default': '0.00', 'description': 'The amount of the expense from the user message.'}, 'dt': {'description': 'The date of the expense from the user message. defaults from the current date.', 'format': 'date', 'type': 'string'}, 'type': {'enum': ['income', 'expense'], 'type': 'string'}}, 'required': ['type'], 'type': 'object'}, 'type': 'array'}}, 'required': ['expenses'], 'type': 'object'}}}}}, config={}, config_factories=[])\n",
       "}\n",
       "| RunnableWithFallbacks(runnable=RunnableAssign(mapper={\n",
       "    parsed: RunnableLambda(itemgetter('raw'))\n",
       "            | RunnableBinding(bound=RunnableLambda(...), kwargs={}, config={}, config_factories=[], custom_output_type=<class '__main__.ResultSchema'>),\n",
       "    parsing_error: RunnableLambda(...)\n",
       "  }), fallbacks=[RunnableAssign(mapper={\n",
       "    parsed: RunnableLambda(lambda _: None)\n",
       "  })], exception_key='parsing_error')"
      ]
     },
     "execution_count": 4,
     "metadata": {},
     "output_type": "execute_result"
    }
   ],
   "source": [
    "client"
   ]
  },
  {
   "cell_type": "code",
   "execution_count": 5,
   "id": "d0d3880c",
   "metadata": {},
   "outputs": [],
   "source": [
    "__SYSTEM_PROMPT = \"\"\"\n",
    "You are a helpful assistant that extracts expenses from user messages.\n",
    "You will receive a user message and you need to extract the expenses from it.\n",
    "The expenses can be of two types: income and expense.\n",
    "You will return the expenses in a structured format.\n",
    "\n",
    "ignore the not related sentences to the task, and extract the expenses and income from the user message.\n",
    "The accuracy of the task is important. You must extract the expenses and income from the user message accurately.\n",
    "\n",
    "You are an assistant specialized in extracting financial entries from free-form user messages.\n",
    "Your job is to identify all expenses and incomes mentioned, determine their dates and amounts, and output them in a precise JSON format.\n",
    "\n",
    "\"\"\"\n",
    "\n",
    "\n",
    "prompt_template = ChatPromptTemplate.from_messages(\n",
    "    [\n",
    "        SystemMessagePromptTemplate.from_template(__SYSTEM_PROMPT),\n",
    "        SystemMessagePromptTemplate.from_template(\"/no_think\"),\n",
    "        HumanMessagePromptTemplate.from_template(\"{message}\"),\n",
    "        HumanMessagePromptTemplate.from_template(\"current DATETIME with time zone is {current_datetime}\"),\n",
    "    ]\n",
    ")\n"
   ]
  },
  {
   "cell_type": "code",
   "execution_count": 6,
   "id": "7e2bbd50",
   "metadata": {},
   "outputs": [
    {
     "data": {
      "text/plain": [
       "[SystemMessage(content='\\nYou are a helpful assistant that extracts expenses from user messages.\\nYou will receive a user message and you need to extract the expenses from it.\\nThe expenses can be of two types: income and expense.\\nYou will return the expenses in a structured format.\\n\\nignore the not related sentences to the task, and extract the expenses and income from the user message.\\nThe accuracy of the task is important. You must extract the expenses and income from the user message accurately.\\n\\nYou are an assistant specialized in extracting financial entries from free-form user messages.\\nYour job is to identify all expenses and incomes mentioned, determine their dates and amounts, and output them in a precise JSON format.\\n\\n', additional_kwargs={}, response_metadata={}),\n",
       " SystemMessage(content='/no_think', additional_kwargs={}, response_metadata={}),\n",
       " HumanMessage(content='\\n    담배값으로 2만원을 썼고\\n    커피값으로 5천원을 씀\\n    점심 값으로 1만원을 썼어\\n    그리고 어제 저녁으로 3만원을 썼어\\n    ', additional_kwargs={}, response_metadata={}),\n",
       " HumanMessage(content='current DATETIME with time zone is 2025-05-28T00:03:54.933115+09:00', additional_kwargs={}, response_metadata={})]"
      ]
     },
     "execution_count": 6,
     "metadata": {},
     "output_type": "execute_result"
    }
   ],
   "source": [
    "prompt_template.format_prompt(\n",
    "    current_datetime=DateTime.now(\"Asia/Seoul\").to_iso8601_string(),\n",
    "    message=\"\"\"\n",
    "    담배값으로 2만원을 썼고\n",
    "    커피값으로 5천원을 씀\n",
    "    점심 값으로 1만원을 썼어\n",
    "    그리고 어제 저녁으로 3만원을 썼어\n",
    "    \"\"\",\n",
    ").to_messages()"
   ]
  },
  {
   "cell_type": "code",
   "execution_count": 7,
   "id": "ab751027",
   "metadata": {},
   "outputs": [],
   "source": [
    "results = client.invoke(\n",
    "    prompt_template.format_prompt(\n",
    "        current_datetime=DateTime.now(\"Asia/Seoul\").to_iso8601_string(),\n",
    "        message=\"\"\"\n",
    "        담배값으로 2만원을 썼고\n",
    "        커피값으로 5천원을 씀\n",
    "        점심 값으로 1만원을 썼어\n",
    "        그리고 어제 저녁으로 3만원을 썼어\n",
    "        \"\"\",\n",
    "    ).to_messages(),\n",
    ")"
   ]
  },
  {
   "cell_type": "code",
   "execution_count": 12,
   "id": "ebc2c620",
   "metadata": {},
   "outputs": [
    {
     "data": {
      "text/plain": [
       "ResultSchema(expenses=[Expense of 20000 on 2025-05-28, Expense of 5000 on 2025-05-28, Expense of 10000 on 2025-05-28, Expense of 30000 on 2025-05-27])"
      ]
     },
     "execution_count": 12,
     "metadata": {},
     "output_type": "execute_result"
    }
   ],
   "source": [
    "# results['raw']\n",
    "# results['parsed']\n",
    "results['parsed']"
   ]
  },
  {
   "cell_type": "code",
   "execution_count": 9,
   "id": "bd433fad",
   "metadata": {},
   "outputs": [
    {
     "ename": "AttributeError",
     "evalue": "'dict' object has no attribute 'expenses'",
     "output_type": "error",
     "traceback": [
      "\u001b[31m---------------------------------------------------------------------------\u001b[39m",
      "\u001b[31mAttributeError\u001b[39m                            Traceback (most recent call last)",
      "\u001b[36mCell\u001b[39m\u001b[36m \u001b[39m\u001b[32mIn[9]\u001b[39m\u001b[32m, line 1\u001b[39m\n\u001b[32m----> \u001b[39m\u001b[32m1\u001b[39m \u001b[38;5;28;01mfor\u001b[39;00m expense \u001b[38;5;129;01min\u001b[39;00m \u001b[43mresults\u001b[49m\u001b[43m.\u001b[49m\u001b[43mexpenses\u001b[49m:\n\u001b[32m      2\u001b[39m     \u001b[38;5;28mprint\u001b[39m(expense)\n",
      "\u001b[31mAttributeError\u001b[39m: 'dict' object has no attribute 'expenses'"
     ]
    }
   ],
   "source": [
    "for expense in results.expenses:\n",
    "    print(expense)"
   ]
  },
  {
   "cell_type": "code",
   "execution_count": null,
   "id": "7919d52d",
   "metadata": {},
   "outputs": [],
   "source": []
  },
  {
   "cell_type": "code",
   "execution_count": null,
   "id": "6c51f5cb",
   "metadata": {},
   "outputs": [],
   "source": []
  }
 ],
 "metadata": {
  "kernelspec": {
   "display_name": ".venv",
   "language": "python",
   "name": "python3"
  },
  "language_info": {
   "codemirror_mode": {
    "name": "ipython",
    "version": 3
   },
   "file_extension": ".py",
   "mimetype": "text/x-python",
   "name": "python",
   "nbconvert_exporter": "python",
   "pygments_lexer": "ipython3",
   "version": "3.12.10"
  }
 },
 "nbformat": 4,
 "nbformat_minor": 5
}
